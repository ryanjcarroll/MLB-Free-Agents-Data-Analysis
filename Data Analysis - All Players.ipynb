{
 "cells": [
  {
   "cell_type": "code",
   "execution_count": 254,
   "metadata": {},
   "outputs": [],
   "source": [
    "import numpy as np\n",
    "import pandas as pd\n",
    "import matplotlib.pyplot as plt\n",
    "import seaborn as sns"
   ]
  },
  {
   "cell_type": "code",
   "execution_count": 255,
   "metadata": {},
   "outputs": [],
   "source": [
    "# read json into a pandas dataframe\n",
    "players = pd.read_json('players.json')\n",
    "\n",
    "# re-order columns\n",
    "players = players[['year','name','pos','age','status','prev_team','new_team','dollars','years_signed']]"
   ]
  },
  {
   "cell_type": "code",
   "execution_count": 256,
   "metadata": {
    "scrolled": true
   },
   "outputs": [
    {
     "data": {
      "text/html": [
       "<div>\n",
       "<style scoped>\n",
       "    .dataframe tbody tr th:only-of-type {\n",
       "        vertical-align: middle;\n",
       "    }\n",
       "\n",
       "    .dataframe tbody tr th {\n",
       "        vertical-align: top;\n",
       "    }\n",
       "\n",
       "    .dataframe thead th {\n",
       "        text-align: right;\n",
       "    }\n",
       "</style>\n",
       "<table border=\"1\" class=\"dataframe\">\n",
       "  <thead>\n",
       "    <tr style=\"text-align: right;\">\n",
       "      <th></th>\n",
       "      <th>year</th>\n",
       "      <th>name</th>\n",
       "      <th>pos</th>\n",
       "      <th>age</th>\n",
       "      <th>status</th>\n",
       "      <th>prev_team</th>\n",
       "      <th>new_team</th>\n",
       "      <th>dollars</th>\n",
       "      <th>years_signed</th>\n",
       "    </tr>\n",
       "  </thead>\n",
       "  <tbody>\n",
       "    <tr>\n",
       "      <th>0</th>\n",
       "      <td>2006</td>\n",
       "      <td>Moises Alou</td>\n",
       "      <td>LF</td>\n",
       "      <td>39</td>\n",
       "      <td>Signed (A)</td>\n",
       "      <td>Giants</td>\n",
       "      <td>Mets</td>\n",
       "      <td>$8,500,000</td>\n",
       "      <td>1</td>\n",
       "    </tr>\n",
       "    <tr>\n",
       "      <th>1</th>\n",
       "      <td>2006</td>\n",
       "      <td>Tony Armas</td>\n",
       "      <td>SP</td>\n",
       "      <td>28</td>\n",
       "      <td>Signed</td>\n",
       "      <td>Nationals</td>\n",
       "      <td>Pirates</td>\n",
       "      <td>$3,500,000</td>\n",
       "      <td>1</td>\n",
       "    </tr>\n",
       "    <tr>\n",
       "      <th>2</th>\n",
       "      <td>2006</td>\n",
       "      <td>Rich Aurilia</td>\n",
       "      <td>1B</td>\n",
       "      <td>34</td>\n",
       "      <td>Signed (A)</td>\n",
       "      <td>Reds</td>\n",
       "      <td>Giants</td>\n",
       "      <td>$8,000,000</td>\n",
       "      <td>2</td>\n",
       "    </tr>\n",
       "    <tr>\n",
       "      <th>3</th>\n",
       "      <td>2006</td>\n",
       "      <td>Danys Baez</td>\n",
       "      <td>RP</td>\n",
       "      <td>28</td>\n",
       "      <td>Signed (A)</td>\n",
       "      <td>Braves</td>\n",
       "      <td>Orioles</td>\n",
       "      <td>$19,000,000</td>\n",
       "      <td>3</td>\n",
       "    </tr>\n",
       "    <tr>\n",
       "      <th>4</th>\n",
       "      <td>2006</td>\n",
       "      <td>Paul Bako</td>\n",
       "      <td>C</td>\n",
       "      <td>33</td>\n",
       "      <td>Signed</td>\n",
       "      <td>Royals</td>\n",
       "      <td>Orioles</td>\n",
       "      <td>$900,000</td>\n",
       "      <td>1</td>\n",
       "    </tr>\n",
       "  </tbody>\n",
       "</table>\n",
       "</div>"
      ],
      "text/plain": [
       "   year          name pos  age      status  prev_team new_team      dollars  \\\n",
       "0  2006   Moises Alou  LF   39  Signed (A)     Giants     Mets   $8,500,000   \n",
       "1  2006    Tony Armas  SP   28      Signed  Nationals  Pirates   $3,500,000   \n",
       "2  2006  Rich Aurilia  1B   34  Signed (A)       Reds   Giants   $8,000,000   \n",
       "3  2006    Danys Baez  RP   28  Signed (A)     Braves  Orioles  $19,000,000   \n",
       "4  2006     Paul Bako   C   33      Signed     Royals  Orioles     $900,000   \n",
       "\n",
       "   years_signed  \n",
       "0             1  \n",
       "1             1  \n",
       "2             2  \n",
       "3             3  \n",
       "4             1  "
      ]
     },
     "execution_count": 256,
     "metadata": {},
     "output_type": "execute_result"
    }
   ],
   "source": [
    "players.head()"
   ]
  },
  {
   "cell_type": "markdown",
   "metadata": {},
   "source": [
    "# Analysis of Contract Dollar Values by Year\n",
    "\n",
    "First we clean the 'dollars' column by removing non-digit characters and casting from string to int."
   ]
  },
  {
   "cell_type": "code",
   "execution_count": 257,
   "metadata": {},
   "outputs": [],
   "source": [
    "if players['dollars'].dtype == 'object':\n",
    "    players['dollars'] = players['dollars'].str.replace('$','').str.replace(',','').astype(int)"
   ]
  },
  {
   "cell_type": "markdown",
   "metadata": {},
   "source": [
    "We can generate a scatter plot which shows the size of each contract signed alongside the year.  The points for Alex Rodriguez and Bryce Harper's record-setting contracts are labeled."
   ]
  },
  {
   "cell_type": "code",
   "execution_count": 258,
   "metadata": {},
   "outputs": [
    {
     "data": {
      "image/png": "[encoded data removed]",
      "text/plain": [
       "<Figure size 576x720 with 1 Axes>"
      ]
     },
     "metadata": {
      "needs_background": "light"
     },
     "output_type": "display_data"
    }
   ],
   "source": [
    "fig = plt.figure(figsize=(8,10))\n",
    "ax1 = fig.add_subplot(2,1,1)\n",
    "\n",
    "x_ticks = 2*np.arange(8) + 2005\n",
    "y_ticks = 50000000 * np.arange(7)\n",
    "\n",
    "# Scatter plot\n",
    "ax1 = sns.lineplot(players['year'], players['dollars'], color='orange', label='average value')\n",
    "ax1.legend(loc='best')\n",
    "ax1.scatter(players['year'], players['dollars'])\n",
    "ax1.set_xticks(x_ticks)\n",
    "ax1.set_yticks(y_ticks)\n",
    "ax1.set_ylim([0,350000000])\n",
    "ax1.set_title('MLB Free Agent Contracts by Year Signed')\n",
    "ax1.set_ylabel('Contract Value, $100M')\n",
    "ax1.text(2007,280000000,'Rodriguez')\n",
    "ax1.text(2018,335000000,'Harper')\n",
    "\n",
    "plt.savefig('figures/contracts_by_year.png', bbox_inches='tight')\n",
    "plt.show()"
   ]
  },
  {
   "cell_type": "markdown",
   "metadata": {},
   "source": [
    "# Analysis of Contract Dollar Values by Age"
   ]
  },
  {
   "cell_type": "code",
   "execution_count": null,
   "metadata": {},
   "outputs": [],
   "source": [
    "fig = plt.figure(figsize=(9,10))\n",
    "ax1 = fig.add_subplot(2,1,1)\n",
    "\n",
    "x_ticks = np.arange(30) + 18\n",
    "y_ticks = 50000000 * np.arange(7)\n",
    "\n",
    "# Scatter plot\n",
    "ax1 = sns.lineplot(players['age'], players['dollars'], color='orange', label='average value')\n",
    "ax1.legend(loc='best')\n",
    "ax1.scatter(players['age'], players['dollars'])\n",
    "ax1.set_xticks(x_ticks)\n",
    "ax1.set_yticks(y_ticks)\n",
    "ax1.set_ylim([0,350000000])\n",
    "ax1.set_title('MLB Free Agent Contracts by Player Age')\n",
    "ax1.set_ylabel('Contract Value, $100M')\n",
    "\n",
    "plt.savefig('figures/contracts_by_age.png', bbox_inches='tight')\n",
    "plt.show()"
   ]
  },
  {
   "cell_type": "code",
   "execution_count": null,
   "metadata": {},
   "outputs": [],
   "source": []
  }
 ],
 "metadata": {
  "kernelspec": {
   "display_name": "Python 3",
   "language": "python",
   "name": "python3"
  },
  "language_info": {
   "codemirror_mode": {
    "name": "ipython",
    "version": 3
   },
   "file_extension": ".py",
   "mimetype": "text/x-python",
   "name": "python",
   "nbconvert_exporter": "python",
   "pygments_lexer": "ipython3",
   "version": "3.7.3"
  }
 },
 "nbformat": 4,
 "nbformat_minor": 2
}

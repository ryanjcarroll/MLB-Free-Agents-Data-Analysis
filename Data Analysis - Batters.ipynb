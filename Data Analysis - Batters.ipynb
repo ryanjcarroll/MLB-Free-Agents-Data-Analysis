{
 "cells": [
  {
   "cell_type": "code",
   "execution_count": 198,
   "metadata": {},
   "outputs": [],
   "source": [
    "import numpy as np\n",
    "import pandas as pd\n",
    "import matplotlib.pyplot as plt\n",
    "import seaborn as sns\n",
    "sns.set(style='darkgrid')"
   ]
  },
  {
   "cell_type": "code",
   "execution_count": 199,
   "metadata": {},
   "outputs": [],
   "source": [
    "batters = pd.read_json('batters_stats.json')\n",
    "batters = batters[['year','name','pos','age','status','prev_team','new_team','dollars','years_signed','stats_1yr_ago','stats_2yr_ago','stats_3yr_ago']]"
   ]
  },
  {
   "cell_type": "markdown",
   "metadata": {},
   "source": [
    "# Data Cleaning"
   ]
  },
  {
   "cell_type": "code",
   "execution_count": 200,
   "metadata": {},
   "outputs": [],
   "source": [
    "# cast the dollars column from string to int\n",
    "if batters['dollars'].dtype == 'object':\n",
    "    batters['dollars'] = batters['dollars'].str.replace('$','').str.replace(',','')\n",
    "    \n",
    "batters['dollars'] = batters['dollars'].astype('int64')"
   ]
  },
  {
   "cell_type": "code",
   "execution_count": 201,
   "metadata": {
    "scrolled": true
   },
   "outputs": [
    {
     "data": {
      "text/html": [
       "<div>\n",
       "<style scoped>\n",
       "    .dataframe tbody tr th:only-of-type {\n",
       "        vertical-align: middle;\n",
       "    }\n",
       "\n",
       "    .dataframe tbody tr th {\n",
       "        vertical-align: top;\n",
       "    }\n",
       "\n",
       "    .dataframe thead th {\n",
       "        text-align: right;\n",
       "    }\n",
       "</style>\n",
       "<table border=\"1\" class=\"dataframe\">\n",
       "  <thead>\n",
       "    <tr style=\"text-align: right;\">\n",
       "      <th></th>\n",
       "      <th>year</th>\n",
       "      <th>name</th>\n",
       "      <th>pos</th>\n",
       "      <th>age</th>\n",
       "      <th>status</th>\n",
       "      <th>prev_team</th>\n",
       "      <th>new_team</th>\n",
       "      <th>dollars</th>\n",
       "      <th>years_signed</th>\n",
       "      <th>stats_1yr_ago</th>\n",
       "      <th>stats_2yr_ago</th>\n",
       "      <th>stats_3yr_ago</th>\n",
       "    </tr>\n",
       "  </thead>\n",
       "  <tbody>\n",
       "    <tr>\n",
       "      <th>0</th>\n",
       "      <td>2006</td>\n",
       "      <td>Moises Alou</td>\n",
       "      <td>LF</td>\n",
       "      <td>39</td>\n",
       "      <td>Signed (A)</td>\n",
       "      <td>Giants</td>\n",
       "      <td>Mets</td>\n",
       "      <td>8500000</td>\n",
       "      <td>1</td>\n",
       "      <td>{'GP': '98', 'AB': '345', 'R': '52', 'H': '104...</td>\n",
       "      <td>{'GP': '123', 'AB': '427', 'R': '67', 'H': '13...</td>\n",
       "      <td>{'GP': '155', 'AB': '601', 'R': '106', 'H': '1...</td>\n",
       "    </tr>\n",
       "    <tr>\n",
       "      <th>1</th>\n",
       "      <td>2006</td>\n",
       "      <td>Rich Aurilia</td>\n",
       "      <td>1B</td>\n",
       "      <td>34</td>\n",
       "      <td>Signed (A)</td>\n",
       "      <td>Reds</td>\n",
       "      <td>Giants</td>\n",
       "      <td>8000000</td>\n",
       "      <td>2</td>\n",
       "      <td>{'GP': '122', 'AB': '440', 'R': '61', 'H': '13...</td>\n",
       "      <td>{'GP': '114', 'AB': '426', 'R': '61', 'H': '12...</td>\n",
       "      <td>{'GP': '124', 'AB': '399', 'R': '49', 'H': '98...</td>\n",
       "    </tr>\n",
       "    <tr>\n",
       "      <th>2</th>\n",
       "      <td>2006</td>\n",
       "      <td>Paul Bako</td>\n",
       "      <td>C</td>\n",
       "      <td>33</td>\n",
       "      <td>Signed</td>\n",
       "      <td>Royals</td>\n",
       "      <td>Orioles</td>\n",
       "      <td>900000</td>\n",
       "      <td>1</td>\n",
       "      <td>{'GP': '56', 'AB': '153', 'R': '7', 'H': '32',...</td>\n",
       "      <td>{'GP': '13', 'AB': '40', 'R': '1', 'H': '10', ...</td>\n",
       "      <td>{'GP': '49', 'AB': '138', 'R': '13', 'H': '28'...</td>\n",
       "    </tr>\n",
       "    <tr>\n",
       "      <th>3</th>\n",
       "      <td>2006</td>\n",
       "      <td>Rod Barajas</td>\n",
       "      <td>C</td>\n",
       "      <td>30</td>\n",
       "      <td>Signed</td>\n",
       "      <td>Rangers</td>\n",
       "      <td>Phillies</td>\n",
       "      <td>2500000</td>\n",
       "      <td>1</td>\n",
       "      <td>{'GP': '97', 'AB': '344', 'R': '49', 'H': '88'...</td>\n",
       "      <td>{'GP': '120', 'AB': '410', 'R': '53', 'H': '10...</td>\n",
       "      <td>{'GP': '108', 'AB': '358', 'R': '50', 'H': '89...</td>\n",
       "    </tr>\n",
       "    <tr>\n",
       "      <th>4</th>\n",
       "      <td>2006</td>\n",
       "      <td>Gary Bennett</td>\n",
       "      <td>C</td>\n",
       "      <td>34</td>\n",
       "      <td>Signed</td>\n",
       "      <td>Cardinals</td>\n",
       "      <td>Cardinals</td>\n",
       "      <td>900000</td>\n",
       "      <td>1</td>\n",
       "      <td>{'GP': '60', 'AB': '157', 'R': '13', 'H': '35'...</td>\n",
       "      <td>{'GP': '68', 'AB': '199', 'R': '11', 'H': '44'...</td>\n",
       "      <td>{'GP': '75', 'AB': '219', 'R': '18', 'H': '49'...</td>\n",
       "    </tr>\n",
       "  </tbody>\n",
       "</table>\n",
       "</div>"
      ],
      "text/plain": [
       "   year          name pos  age      status  prev_team   new_team  dollars  \\\n",
       "0  2006   Moises Alou  LF   39  Signed (A)     Giants       Mets  8500000   \n",
       "1  2006  Rich Aurilia  1B   34  Signed (A)       Reds     Giants  8000000   \n",
       "2  2006     Paul Bako   C   33      Signed     Royals    Orioles   900000   \n",
       "3  2006   Rod Barajas   C   30      Signed    Rangers   Phillies  2500000   \n",
       "4  2006  Gary Bennett   C   34      Signed  Cardinals  Cardinals   900000   \n",
       "\n",
       "   years_signed                                      stats_1yr_ago  \\\n",
       "0             1  {'GP': '98', 'AB': '345', 'R': '52', 'H': '104...   \n",
       "1             2  {'GP': '122', 'AB': '440', 'R': '61', 'H': '13...   \n",
       "2             1  {'GP': '56', 'AB': '153', 'R': '7', 'H': '32',...   \n",
       "3             1  {'GP': '97', 'AB': '344', 'R': '49', 'H': '88'...   \n",
       "4             1  {'GP': '60', 'AB': '157', 'R': '13', 'H': '35'...   \n",
       "\n",
       "                                       stats_2yr_ago  \\\n",
       "0  {'GP': '123', 'AB': '427', 'R': '67', 'H': '13...   \n",
       "1  {'GP': '114', 'AB': '426', 'R': '61', 'H': '12...   \n",
       "2  {'GP': '13', 'AB': '40', 'R': '1', 'H': '10', ...   \n",
       "3  {'GP': '120', 'AB': '410', 'R': '53', 'H': '10...   \n",
       "4  {'GP': '68', 'AB': '199', 'R': '11', 'H': '44'...   \n",
       "\n",
       "                                       stats_3yr_ago  \n",
       "0  {'GP': '155', 'AB': '601', 'R': '106', 'H': '1...  \n",
       "1  {'GP': '124', 'AB': '399', 'R': '49', 'H': '98...  \n",
       "2  {'GP': '49', 'AB': '138', 'R': '13', 'H': '28'...  \n",
       "3  {'GP': '108', 'AB': '358', 'R': '50', 'H': '89...  \n",
       "4  {'GP': '75', 'AB': '219', 'R': '18', 'H': '49'...  "
      ]
     },
     "execution_count": 201,
     "metadata": {},
     "output_type": "execute_result"
    }
   ],
   "source": [
    "batters.head()"
   ]
  },
  {
   "cell_type": "markdown",
   "metadata": {},
   "source": [
    "# Data Analysis"
   ]
  },
  {
   "cell_type": "code",
   "execution_count": 202,
   "metadata": {},
   "outputs": [],
   "source": [
    "# replace 'None' values with zeros\n",
    "for index, row in batters.iterrows():\n",
    "    for key, value in row['stats_1yr_ago'].items():\n",
    "        if value == 'None':\n",
    "            row['stats_1yr_ago'][key] = '0'\n",
    "    for key, value in row['stats_2yr_ago'].items():\n",
    "        if value == 'None':\n",
    "            row['stats_2yr_ago'][key] = '0'\n",
    "    for key, value in row['stats_3yr_ago'].items():\n",
    "        if value == 'None':\n",
    "            row['stats_3yr_ago'][key] = '0'"
   ]
  },
  {
   "cell_type": "code",
   "execution_count": 203,
   "metadata": {},
   "outputs": [],
   "source": [
    "# create a column for the 3-year total of each batter stat\n",
    "for stat in batters['stats_1yr_ago'][0]:\n",
    "    stat_list = []\n",
    "    \n",
    "    for index, row in batters.iterrows():\n",
    "        stat_1 = float(row['stats_1yr_ago'][stat])\n",
    "        stat_2 = float(row['stats_2yr_ago'][stat])\n",
    "        stat_3 = float(row['stats_3yr_ago'][stat])   \n",
    "        stat_list.append(stat_1 + stat_2 + stat_3)\n",
    "\n",
    "    batters[stat + '_3yr'] = stat_list"
   ]
  },
  {
   "cell_type": "code",
   "execution_count": 204,
   "metadata": {
    "scrolled": false
   },
   "outputs": [
    {
     "data": {
      "image/png": "[encoded data removed]",
      "text/plain": [
       "<Figure size 720x576 with 1 Axes>"
      ]
     },
     "metadata": {},
     "output_type": "display_data"
    }
   ],
   "source": [
    "fig, ax = plt.subplots(figsize=(10,8))\n",
    "\n",
    "sns.scatterplot(x='WAR_3yr',y='dollars',data=batters, ax=ax)\n",
    "plt.title('Contract Value and 3-year WAR totals')\n",
    "plt.xlabel('Wins Above Replacement, past 3 years')\n",
    "plt.ylabel('Contract Value, $100M')\n",
    "\n",
    "plt.show()"
   ]
  },
  {
   "cell_type": "markdown",
   "metadata": {},
   "source": [
    "# Linear Relationships"
   ]
  },
  {
   "cell_type": "code",
   "execution_count": null,
   "metadata": {},
   "outputs": [],
   "source": [
    "fig = plt.figure(figsize=(20,20))\n",
    "for i in range(0,14):\n",
    "    ax = fig.add_subplot(4,5,i+1)\n",
    "\n",
    "    col = batters.loc[:,'GP_3yr':].columns[i]\n",
    "    stat = col.replace('_3yr','')\n",
    "    \n",
    "    sns.scatterplot(x=col,y='dollars',data=batters, ax=ax)\n",
    "    ax.set_yticks([0,100000000,200000000,300000000])\n",
    "    ax.set_yticklabels(['','','','$300M'], rotation=90)\n",
    "    ax.set_ylabel('')\n",
    "    ax.set_xlabel('')\n",
    "    ax.set_title(stat)\n",
    "\n",
    "plt.suptitle('Contract Value by 3-Year Stat Totals')\n",
    "plt.show()"
   ]
  },
  {
   "cell_type": "code",
   "execution_count": null,
   "metadata": {},
   "outputs": [],
   "source": []
  }
 ],
 "metadata": {
  "kernelspec": {
   "display_name": "Python 3",
   "language": "python",
   "name": "python3"
  },
  "language_info": {
   "codemirror_mode": {
    "name": "ipython",
    "version": 3
   },
   "file_extension": ".py",
   "mimetype": "text/x-python",
   "name": "python",
   "nbconvert_exporter": "python",
   "pygments_lexer": "ipython3",
   "version": "3.7.3"
  }
 },
 "nbformat": 4,
 "nbformat_minor": 2
}

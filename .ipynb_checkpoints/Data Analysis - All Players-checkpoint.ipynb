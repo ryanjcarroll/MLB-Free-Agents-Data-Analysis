{
 "cells": [
  {
   "cell_type": "code",
   "execution_count": 42,
   "metadata": {},
   "outputs": [],
   "source": [
    "import numpy as np\n",
    "import pandas as pd\n",
    "import matplotlib.pyplot as plt\n",
    "import seaborn as sns"
   ]
  },
  {
   "cell_type": "markdown",
   "metadata": {},
   "source": [
    "# Summary\n",
    "\n",
    "Every year hundreds of MLB players become free agents when their previous contracts run out, and they have to seek new teams.  The contracts they sign can vary wildly based on the player's skill, age, position, and more.  We will attempt to uncover some insights about what influences the size and length of free agent contracts signed by MLB players.\n",
    "\n",
    "The dataset we will use is scraped from ESPN.com, and contains salary information for all free agent contracts from 2006-2019.  To see more about the web scraping process we used, explore the 'ESPN Web Scraper' notebook."
   ]
  },
  {
   "cell_type": "code",
   "execution_count": 43,
   "metadata": {},
   "outputs": [],
   "source": [
    "# read json into a pandas dataframe\n",
    "players = pd.read_json('players.json')\n",
    "\n",
    "# re-order columns\n",
    "players = players[['year','name','pos','age','status','prev_team','new_team','dollars','years_signed']]"
   ]
  },
  {
   "cell_type": "code",
   "execution_count": 44,
   "metadata": {
    "scrolled": true
   },
   "outputs": [
    {
     "data": {
      "text/html": [
       "<div>\n",
       "<style scoped>\n",
       "    .dataframe tbody tr th:only-of-type {\n",
       "        vertical-align: middle;\n",
       "    }\n",
       "\n",
       "    .dataframe tbody tr th {\n",
       "        vertical-align: top;\n",
       "    }\n",
       "\n",
       "    .dataframe thead th {\n",
       "        text-align: right;\n",
       "    }\n",
       "</style>\n",
       "<table border=\"1\" class=\"dataframe\">\n",
       "  <thead>\n",
       "    <tr style=\"text-align: right;\">\n",
       "      <th></th>\n",
       "      <th>year</th>\n",
       "      <th>name</th>\n",
       "      <th>pos</th>\n",
       "      <th>age</th>\n",
       "      <th>status</th>\n",
       "      <th>prev_team</th>\n",
       "      <th>new_team</th>\n",
       "      <th>dollars</th>\n",
       "      <th>years_signed</th>\n",
       "    </tr>\n",
       "  </thead>\n",
       "  <tbody>\n",
       "    <tr>\n",
       "      <th>0</th>\n",
       "      <td>2006</td>\n",
       "      <td>Moises Alou</td>\n",
       "      <td>LF</td>\n",
       "      <td>39</td>\n",
       "      <td>Signed (A)</td>\n",
       "      <td>Giants</td>\n",
       "      <td>Mets</td>\n",
       "      <td>$8,500,000</td>\n",
       "      <td>1</td>\n",
       "    </tr>\n",
       "    <tr>\n",
       "      <th>1</th>\n",
       "      <td>2006</td>\n",
       "      <td>Tony Armas</td>\n",
       "      <td>SP</td>\n",
       "      <td>28</td>\n",
       "      <td>Signed</td>\n",
       "      <td>Nationals</td>\n",
       "      <td>Pirates</td>\n",
       "      <td>$3,500,000</td>\n",
       "      <td>1</td>\n",
       "    </tr>\n",
       "    <tr>\n",
       "      <th>2</th>\n",
       "      <td>2006</td>\n",
       "      <td>Rich Aurilia</td>\n",
       "      <td>1B</td>\n",
       "      <td>34</td>\n",
       "      <td>Signed (A)</td>\n",
       "      <td>Reds</td>\n",
       "      <td>Giants</td>\n",
       "      <td>$8,000,000</td>\n",
       "      <td>2</td>\n",
       "    </tr>\n",
       "    <tr>\n",
       "      <th>3</th>\n",
       "      <td>2006</td>\n",
       "      <td>Danys Baez</td>\n",
       "      <td>RP</td>\n",
       "      <td>28</td>\n",
       "      <td>Signed (A)</td>\n",
       "      <td>Braves</td>\n",
       "      <td>Orioles</td>\n",
       "      <td>$19,000,000</td>\n",
       "      <td>3</td>\n",
       "    </tr>\n",
       "    <tr>\n",
       "      <th>4</th>\n",
       "      <td>2006</td>\n",
       "      <td>Paul Bako</td>\n",
       "      <td>C</td>\n",
       "      <td>33</td>\n",
       "      <td>Signed</td>\n",
       "      <td>Royals</td>\n",
       "      <td>Orioles</td>\n",
       "      <td>$900,000</td>\n",
       "      <td>1</td>\n",
       "    </tr>\n",
       "  </tbody>\n",
       "</table>\n",
       "</div>"
      ],
      "text/plain": [
       "   year          name pos  age      status  prev_team new_team      dollars  \\\n",
       "0  2006   Moises Alou  LF   39  Signed (A)     Giants     Mets   $8,500,000   \n",
       "1  2006    Tony Armas  SP   28      Signed  Nationals  Pirates   $3,500,000   \n",
       "2  2006  Rich Aurilia  1B   34  Signed (A)       Reds   Giants   $8,000,000   \n",
       "3  2006    Danys Baez  RP   28  Signed (A)     Braves  Orioles  $19,000,000   \n",
       "4  2006     Paul Bako   C   33      Signed     Royals  Orioles     $900,000   \n",
       "\n",
       "   years_signed  \n",
       "0             1  \n",
       "1             1  \n",
       "2             2  \n",
       "3             3  \n",
       "4             1  "
      ]
     },
     "execution_count": 44,
     "metadata": {},
     "output_type": "execute_result"
    }
   ],
   "source": [
    "players.head()"
   ]
  },
  {
   "cell_type": "markdown",
   "metadata": {},
   "source": [
    "# Analysis by Year\n",
    "\n",
    "First we clean the 'dollars' column by removing non-digit characters and casting from string to int."
   ]
  },
  {
   "cell_type": "code",
   "execution_count": 45,
   "metadata": {},
   "outputs": [],
   "source": [
    "if players['dollars'].dtype == 'object':\n",
    "    players['dollars'] = players['dollars'].str.replace('$','').str.replace(',','').astype(int)"
   ]
  },
  {
   "cell_type": "markdown",
   "metadata": {},
   "source": [
    "We can generate a scatter plot which shows the size of each contract signed alongside the year.  The points for Alex Rodriguez and Bryce Harper's record-setting contracts are labeled."
   ]
  },
  {
   "cell_type": "code",
   "execution_count": 46,
   "metadata": {},
   "outputs": [
    {
     "data": {
      "image/png": "[encoded data removed]",
      "text/plain": [
       "<Figure size 432x576 with 1 Axes>"
      ]
     },
     "metadata": {
      "needs_background": "light"
     },
     "output_type": "display_data"
    }
   ],
   "source": [
    "fig, ax = plt.subplots(figsize=(6,8))\n",
    "\n",
    "# Scatter plot\n",
    "sns.lineplot(x='year',y='dollars', data=players, color='orange', label='average value', ax=ax)\n",
    "sns.scatterplot(x='year',y='dollars', data=players, edgecolor='black', ax=ax)\n",
    "\n",
    "plt.legend(loc='upper left')\n",
    "ax.set_title('MLB Free Agent Contracts by Year Signed')\n",
    "ax.set_ylabel('Contract Value, $100M')\n",
    "ax.set_xlabel('Year Signed')\n",
    "ax.text(2007,280000000,'Rodriguez')\n",
    "ax.text(2018,335000000,'Harper')\n",
    "\n",
    "plt.savefig('figures/contracts_by_year.png', bbox_inches='tight')\n",
    "plt.show()"
   ]
  },
  {
   "cell_type": "markdown",
   "metadata": {},
   "source": [
    "# Analysis by Age"
   ]
  },
  {
   "cell_type": "code",
   "execution_count": 47,
   "metadata": {},
   "outputs": [
    {
     "data": {
      "image/png": "[encoded data removed]",
      "text/plain": [
       "<Figure size 648x432 with 1 Axes>"
      ]
     },
     "metadata": {
      "needs_background": "light"
     },
     "output_type": "display_data"
    }
   ],
   "source": [
    "fig, ax = plt.subplots(figsize=(9,6))\n",
    "\n",
    "x_ticks = np.arange(30) + 18\n",
    "y_ticks = 50000000 * np.arange(7)\n",
    "\n",
    "# Scatter plot\n",
    "ax = sns.lineplot(x='age', y='dollars', data=players, color='orange', label='average value')\n",
    "sns.scatterplot(x='age', y='dollars', data=players, edgecolor='black')\n",
    "\n",
    "ax.legend(loc='best')\n",
    "ax.set_xticks(x_ticks)\n",
    "ax.set_yticks(y_ticks)\n",
    "ax.set_ylim([-10000000,350000000])\n",
    "ax.set_title('MLB Free Agent Contracts by Player Age (2006-2019)')\n",
    "ax.set_ylabel('Contract Value, $100M')\n",
    "ax.set_xlabel('Player Age')\n",
    "ax.text(31,280000000,'Rodriguez')\n",
    "ax.text(25,335000000,'Harper')\n",
    "\n",
    "plt.savefig('figures/contracts_by_age.png', bbox_inches='tight')\n",
    "plt.show()"
   ]
  },
  {
   "cell_type": "markdown",
   "metadata": {},
   "source": [
    "Looking at the age-distributed data, we see that very few players sign free agent contracts before age 27.  However, those that do tend to have higher average contract values than any other age group.  This makes some sense, as players do not usually sign free agent deals until they have accrued six years of MLB service time.  This means either the player joined the league very early (such as with Harper, who made his debut at 19), or they were signed from another international league, such as Japan or Cuba.  Players who fulfill either of these criteria are likely to be quite talented, and thus more valuable.\n",
    "\n",
    "The age 26 season is a curious point, since it is noticeably lower than both 25 and 27, and there were no contracts given to 26-year olds for values greater than $50M.  While this could be a statistical anomaly, it could be the case that most players enter free agency for the first time around age 27-28, after starting their career ate 21-22 and accruing their size years of service time, while most international signees would have made their transition to the MLB earlier than age 26.\n",
    "\n",
    "We also see that player value tends to drop off between the age 31 and 32 seasons.  Ages 25-30 is widely considered to be a player's \"prime\" in baseball, so this drop-off makes sense."
   ]
  },
  {
   "cell_type": "code",
   "execution_count": 48,
   "metadata": {},
   "outputs": [
    {
     "data": {
      "text/html": [
       "<div>\n",
       "<style scoped>\n",
       "    .dataframe tbody tr th:only-of-type {\n",
       "        vertical-align: middle;\n",
       "    }\n",
       "\n",
       "    .dataframe tbody tr th {\n",
       "        vertical-align: top;\n",
       "    }\n",
       "\n",
       "    .dataframe thead th {\n",
       "        text-align: right;\n",
       "    }\n",
       "</style>\n",
       "<table border=\"1\" class=\"dataframe\">\n",
       "  <thead>\n",
       "    <tr style=\"text-align: right;\">\n",
       "      <th></th>\n",
       "      <th>year</th>\n",
       "      <th>name</th>\n",
       "      <th>pos</th>\n",
       "      <th>age</th>\n",
       "      <th>status</th>\n",
       "      <th>prev_team</th>\n",
       "      <th>new_team</th>\n",
       "      <th>dollars</th>\n",
       "      <th>years_signed</th>\n",
       "    </tr>\n",
       "  </thead>\n",
       "  <tbody>\n",
       "    <tr>\n",
       "      <th>53</th>\n",
       "      <td>2006</td>\n",
       "      <td>Yoslan Herrera</td>\n",
       "      <td>SP</td>\n",
       "      <td>25</td>\n",
       "      <td>Signed</td>\n",
       "      <td>--</td>\n",
       "      <td>Pirates</td>\n",
       "      <td>1920000</td>\n",
       "      <td>3</td>\n",
       "    </tr>\n",
       "    <tr>\n",
       "      <th>72</th>\n",
       "      <td>2006</td>\n",
       "      <td>Daisuke Matsuzaka</td>\n",
       "      <td>RP</td>\n",
       "      <td>25</td>\n",
       "      <td>Signed</td>\n",
       "      <td>Japan</td>\n",
       "      <td>Red Sox</td>\n",
       "      <td>52000000</td>\n",
       "      <td>6</td>\n",
       "    </tr>\n",
       "    <tr>\n",
       "      <th>127</th>\n",
       "      <td>2006</td>\n",
       "      <td>Jerome Williams</td>\n",
       "      <td>RP</td>\n",
       "      <td>24</td>\n",
       "      <td>Signed</td>\n",
       "      <td>Athletics</td>\n",
       "      <td>Nationals</td>\n",
       "      <td>500000</td>\n",
       "      <td>1</td>\n",
       "    </tr>\n",
       "    <tr>\n",
       "      <th>352</th>\n",
       "      <td>2009</td>\n",
       "      <td>Matt Capps</td>\n",
       "      <td>RP</td>\n",
       "      <td>25</td>\n",
       "      <td>Signed</td>\n",
       "      <td>Pirates</td>\n",
       "      <td>Nationals</td>\n",
       "      <td>3500000</td>\n",
       "      <td>1</td>\n",
       "    </tr>\n",
       "    <tr>\n",
       "      <th>356</th>\n",
       "      <td>2009</td>\n",
       "      <td>Aroldis Chapman</td>\n",
       "      <td>RP</td>\n",
       "      <td>21</td>\n",
       "      <td>Signed</td>\n",
       "      <td>Cuba</td>\n",
       "      <td>Reds</td>\n",
       "      <td>30250000</td>\n",
       "      <td>6</td>\n",
       "    </tr>\n",
       "    <tr>\n",
       "      <th>422</th>\n",
       "      <td>2009</td>\n",
       "      <td>Scott Olsen</td>\n",
       "      <td>SP</td>\n",
       "      <td>25</td>\n",
       "      <td>Signed</td>\n",
       "      <td>Nationals</td>\n",
       "      <td>Nationals</td>\n",
       "      <td>1000000</td>\n",
       "      <td>1</td>\n",
       "    </tr>\n",
       "    <tr>\n",
       "      <th>469</th>\n",
       "      <td>2010</td>\n",
       "      <td>Melky Cabrera</td>\n",
       "      <td>RF</td>\n",
       "      <td>25</td>\n",
       "      <td>Signed</td>\n",
       "      <td>Braves</td>\n",
       "      <td>Royals</td>\n",
       "      <td>1250000</td>\n",
       "      <td>1</td>\n",
       "    </tr>\n",
       "    <tr>\n",
       "      <th>534</th>\n",
       "      <td>2010</td>\n",
       "      <td>Tsuyoshi Nishioka</td>\n",
       "      <td>2B</td>\n",
       "      <td>25</td>\n",
       "      <td>Signed</td>\n",
       "      <td>Japan</td>\n",
       "      <td>Twins</td>\n",
       "      <td>9000000</td>\n",
       "      <td>3</td>\n",
       "    </tr>\n",
       "    <tr>\n",
       "      <th>597</th>\n",
       "      <td>2011</td>\n",
       "      <td>Wei-Yin Chen</td>\n",
       "      <td>RP</td>\n",
       "      <td>25</td>\n",
       "      <td>Signed</td>\n",
       "      <td>Japan</td>\n",
       "      <td>Orioles</td>\n",
       "      <td>11338000</td>\n",
       "      <td>3</td>\n",
       "    </tr>\n",
       "    <tr>\n",
       "      <th>603</th>\n",
       "      <td>2011</td>\n",
       "      <td>Yu Darvish</td>\n",
       "      <td>SP</td>\n",
       "      <td>24</td>\n",
       "      <td>Signed</td>\n",
       "      <td>Japan</td>\n",
       "      <td>Rangers</td>\n",
       "      <td>60000000</td>\n",
       "      <td>6</td>\n",
       "    </tr>\n",
       "    <tr>\n",
       "      <th>753</th>\n",
       "      <td>2012</td>\n",
       "      <td>Hyun-Jin Ryu</td>\n",
       "      <td>SP</td>\n",
       "      <td>25</td>\n",
       "      <td>Signed</td>\n",
       "      <td>Japan</td>\n",
       "      <td>Dodgers</td>\n",
       "      <td>36000000</td>\n",
       "      <td>6</td>\n",
       "    </tr>\n",
       "    <tr>\n",
       "      <th>862</th>\n",
       "      <td>2013</td>\n",
       "      <td>Masahiro Tanaka</td>\n",
       "      <td>SP</td>\n",
       "      <td>24</td>\n",
       "      <td>Signed</td>\n",
       "      <td>Japan</td>\n",
       "      <td>Yankees</td>\n",
       "      <td>155000000</td>\n",
       "      <td>7</td>\n",
       "    </tr>\n",
       "    <tr>\n",
       "      <th>952</th>\n",
       "      <td>2014</td>\n",
       "      <td>Yasmany Tomas</td>\n",
       "      <td>LF</td>\n",
       "      <td>23</td>\n",
       "      <td>Signed</td>\n",
       "      <td>Cuba</td>\n",
       "      <td>Diamondbacks</td>\n",
       "      <td>68500000</td>\n",
       "      <td>6</td>\n",
       "    </tr>\n",
       "    <tr>\n",
       "      <th>994</th>\n",
       "      <td>2015</td>\n",
       "      <td>Jason Heyward</td>\n",
       "      <td>RF</td>\n",
       "      <td>25</td>\n",
       "      <td>Signed</td>\n",
       "      <td>Cardinals</td>\n",
       "      <td>Cubs</td>\n",
       "      <td>184000000</td>\n",
       "      <td>8</td>\n",
       "    </tr>\n",
       "    <tr>\n",
       "      <th>1036</th>\n",
       "      <td>2015</td>\n",
       "      <td>Yaisel Sierra</td>\n",
       "      <td>RP</td>\n",
       "      <td>23</td>\n",
       "      <td>Signed</td>\n",
       "      <td>Cuba</td>\n",
       "      <td>Dodgers</td>\n",
       "      <td>30000000</td>\n",
       "      <td>6</td>\n",
       "    </tr>\n",
       "    <tr>\n",
       "      <th>1109</th>\n",
       "      <td>2016</td>\n",
       "      <td>Thomas Milone</td>\n",
       "      <td>RF</td>\n",
       "      <td>21</td>\n",
       "      <td>Signed</td>\n",
       "      <td>Twins</td>\n",
       "      <td>Brewers</td>\n",
       "      <td>1250000</td>\n",
       "      <td>1</td>\n",
       "    </tr>\n",
       "    <tr>\n",
       "      <th>1281</th>\n",
       "      <td>2018</td>\n",
       "      <td>Bryce Harper</td>\n",
       "      <td>RF</td>\n",
       "      <td>25</td>\n",
       "      <td>Signed</td>\n",
       "      <td>Nationals</td>\n",
       "      <td>Phillies</td>\n",
       "      <td>330000000</td>\n",
       "      <td>13</td>\n",
       "    </tr>\n",
       "    <tr>\n",
       "      <th>1303</th>\n",
       "      <td>2018</td>\n",
       "      <td>Manny Machado</td>\n",
       "      <td>3B</td>\n",
       "      <td>25</td>\n",
       "      <td>Signed</td>\n",
       "      <td>Dodgers</td>\n",
       "      <td>Padres</td>\n",
       "      <td>300000000</td>\n",
       "      <td>10</td>\n",
       "    </tr>\n",
       "    <tr>\n",
       "      <th>1343</th>\n",
       "      <td>2018</td>\n",
       "      <td>Ronald Torreyes</td>\n",
       "      <td>2B</td>\n",
       "      <td>25</td>\n",
       "      <td>Signed</td>\n",
       "      <td>Cubs</td>\n",
       "      <td>Twins</td>\n",
       "      <td>800000</td>\n",
       "      <td>1</td>\n",
       "    </tr>\n",
       "    <tr>\n",
       "      <th>1423</th>\n",
       "      <td>2019</td>\n",
       "      <td>Jose Peraza</td>\n",
       "      <td>2B</td>\n",
       "      <td>25</td>\n",
       "      <td>Signed</td>\n",
       "      <td>Reds</td>\n",
       "      <td>Red Sox</td>\n",
       "      <td>3000000</td>\n",
       "      <td>1</td>\n",
       "    </tr>\n",
       "  </tbody>\n",
       "</table>\n",
       "</div>"
      ],
      "text/plain": [
       "      year               name pos  age  status  prev_team      new_team  \\\n",
       "53    2006     Yoslan Herrera  SP   25  Signed         --       Pirates   \n",
       "72    2006  Daisuke Matsuzaka  RP   25  Signed      Japan       Red Sox   \n",
       "127   2006    Jerome Williams  RP   24  Signed  Athletics     Nationals   \n",
       "352   2009         Matt Capps  RP   25  Signed    Pirates     Nationals   \n",
       "356   2009    Aroldis Chapman  RP   21  Signed       Cuba          Reds   \n",
       "422   2009        Scott Olsen  SP   25  Signed  Nationals     Nationals   \n",
       "469   2010      Melky Cabrera  RF   25  Signed     Braves        Royals   \n",
       "534   2010  Tsuyoshi Nishioka  2B   25  Signed      Japan         Twins   \n",
       "597   2011       Wei-Yin Chen  RP   25  Signed      Japan       Orioles   \n",
       "603   2011         Yu Darvish  SP   24  Signed      Japan       Rangers   \n",
       "753   2012       Hyun-Jin Ryu  SP   25  Signed      Japan       Dodgers   \n",
       "862   2013    Masahiro Tanaka  SP   24  Signed      Japan       Yankees   \n",
       "952   2014      Yasmany Tomas  LF   23  Signed       Cuba  Diamondbacks   \n",
       "994   2015      Jason Heyward  RF   25  Signed  Cardinals          Cubs   \n",
       "1036  2015      Yaisel Sierra  RP   23  Signed       Cuba       Dodgers   \n",
       "1109  2016      Thomas Milone  RF   21  Signed      Twins       Brewers   \n",
       "1281  2018       Bryce Harper  RF   25  Signed  Nationals      Phillies   \n",
       "1303  2018      Manny Machado  3B   25  Signed    Dodgers        Padres   \n",
       "1343  2018    Ronald Torreyes  2B   25  Signed       Cubs         Twins   \n",
       "1423  2019        Jose Peraza  2B   25  Signed       Reds       Red Sox   \n",
       "\n",
       "        dollars  years_signed  \n",
       "53      1920000             3  \n",
       "72     52000000             6  \n",
       "127      500000             1  \n",
       "352     3500000             1  \n",
       "356    30250000             6  \n",
       "422     1000000             1  \n",
       "469     1250000             1  \n",
       "534     9000000             3  \n",
       "597    11338000             3  \n",
       "603    60000000             6  \n",
       "753    36000000             6  \n",
       "862   155000000             7  \n",
       "952    68500000             6  \n",
       "994   184000000             8  \n",
       "1036   30000000             6  \n",
       "1109    1250000             1  \n",
       "1281  330000000            13  \n",
       "1303  300000000            10  \n",
       "1343     800000             1  \n",
       "1423    3000000             1  "
      ]
     },
     "execution_count": 48,
     "metadata": {},
     "output_type": "execute_result"
    }
   ],
   "source": [
    "players[players['age'] < 26]"
   ]
  },
  {
   "cell_type": "markdown",
   "metadata": {},
   "source": [
    "During this analysis we run across an error in the ESPN data in line 1109.  It seems that there are two Thomas Milones in the MLB, and the listing here confuses the two.  \"Tommy\" Milone (30 yr old starting pitcher) was the one who signed the contract listed here with the Brewers, while Thomas Milone (21 yr old right fielder) did not.  We will correct this row in the data to reflect the proper age and position of the signee."
   ]
  },
  {
   "cell_type": "code",
   "execution_count": 49,
   "metadata": {},
   "outputs": [
    {
     "name": "stdout",
     "output_type": "stream",
     "text": [
      "year                     2016\n",
      "name            Thomas Milone\n",
      "pos                        SP\n",
      "age                        30\n",
      "status                 Signed\n",
      "prev_team               Twins\n",
      "new_team              Brewers\n",
      "dollars               1250000\n",
      "years_signed                1\n",
      "Name: 1109, dtype: object\n"
     ]
    }
   ],
   "source": [
    "players.iloc[1109, 2] = 'SP'\n",
    "players.iloc[1109, 3] = 30\n",
    "print(players.iloc[1109])"
   ]
  },
  {
   "cell_type": "markdown",
   "metadata": {},
   "source": [
    "# Analysis by Position\n",
    "\n",
    "We have some minimal cleaning to do on the 'pos' column.  Namely, there are 3 rows where the position is set to 'P', and 5 where the position is set to 'OF'.  We want these to be set to more specific values, such as 'SP' or 'LF', so we will manually fix these."
   ]
  },
  {
   "cell_type": "code",
   "execution_count": 50,
   "metadata": {},
   "outputs": [],
   "source": [
    "# correct pitcher positions\n",
    "players.loc[players['name']=='Adam Eaton', 'pos'] = 'SP'\n",
    "players.loc[players['name']=='Andrew Bailey', 'pos'] = 'RP'\n",
    "players.loc[players['name']=='Eddie Guardado', 'pos'] = 'RP'\n",
    "\n",
    "# correct outfield positions\n",
    "players.loc[players['name']=='Jose Cruz Jr.', 'pos'] = 'LF'\n",
    "players.loc[players['name']=='So Taguchi', 'pos'] = 'LF'\n",
    "players.loc[players['name']=='Fred Lewis', 'pos'] = 'LF'\n",
    "players.loc[players['name']=='Carlos Beltran', 'pos'] = 'CF'"
   ]
  },
  {
   "cell_type": "code",
   "execution_count": 51,
   "metadata": {},
   "outputs": [
    {
     "data": {
      "image/png": "[encoded data removed]",
      "text/plain": [
       "<Figure size 432x288 with 1 Axes>"
      ]
     },
     "metadata": {
      "needs_background": "light"
     },
     "output_type": "display_data"
    }
   ],
   "source": [
    "position_order = ['SP','RP','C','1B','2B','3B','SS','LF','CF','RF','DH']\n",
    "\n",
    "sns.countplot(x='pos', order=position_order, linewidth=2, edgecolor='grey', data=players)\n",
    "plt.title('Count of MLB Free Agents by Position (2006-2019)')\n",
    "plt.ylabel('Position')\n",
    "plt.xlabel('Count')\n",
    "\n",
    "plt.show()"
   ]
  },
  {
   "cell_type": "code",
   "execution_count": 52,
   "metadata": {},
   "outputs": [
    {
     "data": {
      "image/png": "[encoded data removed]",
      "text/plain": [
       "<Figure size 720x360 with 2 Axes>"
      ]
     },
     "metadata": {
      "needs_background": "light"
     },
     "output_type": "display_data"
    }
   ],
   "source": [
    "fig = plt.figure(figsize=(10,5))\n",
    "ax1 = fig.add_subplot(1,2,1)\n",
    "ax2 = fig.add_subplot(1,2,2)\n",
    "\n",
    "sns.boxplot(x='pos', y='dollars', data=players, order=position_order, ax=ax1, sym='')\n",
    "ax1.set_title('MLB Free Agent Contract Value')\n",
    "ax1.set_ylabel('Contract Value, $100M')\n",
    "ax1.set_xlabel('Position')\n",
    "\n",
    "sns.boxplot(x='pos', y='years_signed', data=players, order=position_order, sym='', ax=ax2)\n",
    "ax2.set_title('MLB Free Agent Contract Length')\n",
    "ax2.set_ylabel('Contract Length, Years')\n",
    "ax2.set_xlabel('Position')\n",
    "\n",
    "plt.show()"
   ]
  },
  {
   "cell_type": "markdown",
   "metadata": {},
   "source": [
    "Curiously, the lowest-paying position seems to be Shortstop.  This is a bit unexpected because the previous chart reflected that shortstops were the least-signed position in free agency, potentially meaning they would demand a premium price.  A possible cause here is that shortstop is often the most athletic and physically demanding infield position, meaning teams might prefer to develop or trade for younger players than what is available in free agency.  A possible bias is that the ESPN data might mislabel some shortstops as Third Basemen or other positions, because many infielders can play in more than one spot, and it is difficult to reflect this with a single value for position."
   ]
  },
  {
   "cell_type": "code",
   "execution_count": null,
   "metadata": {},
   "outputs": [],
   "source": []
  }
 ],
 "metadata": {
  "kernelspec": {
   "display_name": "Python 3",
   "language": "python",
   "name": "python3"
  },
  "language_info": {
   "codemirror_mode": {
    "name": "ipython",
    "version": 3
   },
   "file_extension": ".py",
   "mimetype": "text/x-python",
   "name": "python",
   "nbconvert_exporter": "python",
   "pygments_lexer": "ipython3",
   "version": "3.7.3"
  }
 },
 "nbformat": 4,
 "nbformat_minor": 2
}

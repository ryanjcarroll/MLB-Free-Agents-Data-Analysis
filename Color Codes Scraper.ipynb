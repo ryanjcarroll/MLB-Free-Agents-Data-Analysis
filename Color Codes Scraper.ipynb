{
 "cells": [
  {
   "cell_type": "code",
   "execution_count": 85,
   "metadata": {},
   "outputs": [],
   "source": [
    "import requests\n",
    "import json\n",
    "import bs4\n",
    "from bs4 import BeautifulSoup as bs"
   ]
  },
  {
   "cell_type": "code",
   "execution_count": 86,
   "metadata": {},
   "outputs": [
    {
     "name": "stdout",
     "output_type": "stream",
     "text": [
      "Response status code: 200\n"
     ]
    }
   ],
   "source": [
    "response = requests.get('https://teamcolorcodes.com/mlb-color-codes/')\n",
    "print(\"Response status code:\", response.status_code)"
   ]
  },
  {
   "cell_type": "markdown",
   "metadata": {},
   "source": [
    "The ESPN data only uses the team name, not the city or any surnames.  So we will need to map the full team names to their shortened versions to match the ESPN data."
   ]
  },
  {
   "cell_type": "code",
   "execution_count": 87,
   "metadata": {},
   "outputs": [],
   "source": [
    "team_names_dict = {\n",
    "'Arizona Diamondbacks':'Diamondbacks',\n",
    "'Atlanta Braves':'Braves',\n",
    "'Baltimore Orioles':'Orioles',\n",
    "'Boston Red Sox':'Red Sox',\n",
    "'Chicago Cubs':'Cubs',\n",
    "'Chicago White Sox':'White Sox',\n",
    "'Cincinnati Reds':'Reds',\n",
    "'Cleveland Indians':'Indians',\n",
    "'Colorado Rockies':'Rockies',\n",
    "'Detroit Tigers':'Tigers',\n",
    "'Houston Astros':'Astros',\n",
    "'Kansas City Royals':'Royals',\n",
    "'Los Angeles Angels':'Angels',\n",
    "'Los Angeles Dodgers':'Dodgers',\n",
    "'Miami Marlins':'Marlins',\n",
    "'Milwaukee Brewers':'Brewers',\n",
    "'Minnesota Twins':'Twins',\n",
    "'New York Mets':'Mets',\n",
    "'New York Yankees':'Yankees',\n",
    "'Oakland Athletics':'Athletics',\n",
    "'Philadelphia Phillies':'Phillies',\n",
    "'Pittsburgh Pirates':'Pirates',\n",
    "'St. Louis Cardinals':'Cardinals',\n",
    "'San Diego Padres':'Padres',\n",
    "'San Francisco Giants':'Giants',\n",
    "'Seattle Mariners':'Mariners',\n",
    "'Tampa Bay Rays':'Rays',\n",
    "'Texas Rangers':'Rangers',\n",
    "'Toronto Blue Jays':'Blue Jays',\n",
    "'Washington Nationals':'Nationals',\n",
    "'MLB':'Japan',\n",
    "}"
   ]
  },
  {
   "cell_type": "code",
   "execution_count": 101,
   "metadata": {},
   "outputs": [],
   "source": [
    "content = response.content\n",
    "parser = bs(content, 'html.parser')\n",
    "buttons = parser.select('.team-button')\n",
    "\n",
    "# scrape color codes from webpage\n",
    "for button in buttons:\n",
    "    if button.text == 'Montreal Expos':\n",
    "        continue\n",
    "    team_name = team_names_dict[button.text]\n",
    "    style = button['style']\n",
    "    \n",
    "    primary_color = '#' + style.split('#')[1].split(';')[0].strip()\n",
    "    if len(primary_color) < 5:\n",
    "        primary_color += style.split('#')[1].split(';')[0].strip()\n",
    "    \n",
    "    secondary_color = '#' + style.split('#')[2].split(';')[0].strip()\n",
    "    if len(secondary_color) < 5:\n",
    "        secondary_color += style.split('#')[2].split(';')[0].strip()\n",
    "    \n",
    "    # load in the json file\n",
    "    with open('team_colors.json') as in_file:\n",
    "        data = json.load(in_file)\n",
    "    \n",
    "    # check to prevent duplicates\n",
    "    already_exists = False\n",
    "    for team in data:\n",
    "        if team['name'] == team_name:\n",
    "            already_exists = True\n",
    "    \n",
    "    # append and save to the json file\n",
    "    if not already_exists:\n",
    "        new_team = {}\n",
    "        new_team['name'] = team_name\n",
    "        new_team['primary_color'] = primary_color\n",
    "        new_team['secondary_color'] = secondary_color\n",
    "\n",
    "        data.append(new_team)\n",
    "        \n",
    "        with open('team_colors.json', 'w') as out_file:\n",
    "            json.dump(data, out_file, indent=4)\n",
    "            \n",
    "    # for writing a python dict of team names to match the ESPN format\n",
    "    #print('\\'' + team_name + '\\'' + ':'+'\\'\\',')"
   ]
  },
  {
   "cell_type": "code",
   "execution_count": 102,
   "metadata": {},
   "outputs": [
    {
     "name": "stdout",
     "output_type": "stream",
     "text": [
      "{'name': 'Diamondbacks', 'primary_color': '#A71930', 'secondary_color': '#000000'}\n",
      "{'name': 'Braves', 'primary_color': '#002855', 'secondary_color': '#BA0C2F'}\n",
      "{'name': 'Orioles', 'primary_color': '#DF4601', 'secondary_color': '#000000'}\n",
      "{'name': 'Red Sox', 'primary_color': '#C8102E', 'secondary_color': '#0C2340'}\n",
      "{'name': 'Cubs', 'primary_color': '#002F6C', 'secondary_color': '#C8102E'}\n",
      "{'name': 'White Sox', 'primary_color': '#27251F', 'secondary_color': '#ffffff'}\n",
      "{'name': 'Reds', 'primary_color': '#D50032', 'secondary_color': '#000000'}\n",
      "{'name': 'Indians', 'primary_color': '#0F223E', 'secondary_color': '#E31937'}\n",
      "{'name': 'Rockies', 'primary_color': '#333366', 'secondary_color': '#ffffff'}\n",
      "{'name': 'Tigers', 'primary_color': '#0C2C56', 'secondary_color': '#FF6600'}\n",
      "{'name': 'Astros', 'primary_color': '#002D62', 'secondary_color': '#EB6E1F'}\n",
      "{'name': 'Royals', 'primary_color': '#004687', 'secondary_color': '#C09A5B'}\n",
      "{'name': 'Angels', 'primary_color': '#BA0021', 'secondary_color': '#003263'}\n",
      "{'name': 'Dodgers', 'primary_color': '#002F6C', 'secondary_color': '#E4002B'}\n",
      "{'name': 'Marlins', 'primary_color': '#000000', 'secondary_color': '#ffffff'}\n",
      "{'name': 'Brewers', 'primary_color': '#13294B', 'secondary_color': '#85714D'}\n",
      "{'name': 'Twins', 'primary_color': '#0C2341', 'secondary_color': '#BA0C2E'}\n",
      "{'name': 'Mets', 'primary_color': '#002D72', 'secondary_color': '#FC4C02'}\n",
      "{'name': 'Yankees', 'primary_color': '#162546', 'secondary_color': '#97999B'}\n",
      "{'name': 'Athletics', 'primary_color': '#003831', 'secondary_color': '#EFB21E'}\n",
      "{'name': 'Phillies', 'primary_color': '#BA0C2F', 'secondary_color': '#003087'}\n",
      "{'name': 'Pirates', 'primary_color': '#111111', 'secondary_color': '#ffffff'}\n",
      "{'name': 'Cardinals', 'primary_color': '#BA0C2F', 'secondary_color': '#0C2340'}\n",
      "{'name': 'Padres', 'primary_color': '#002D62', 'secondary_color': '#A0AAB2'}\n",
      "{'name': 'Giants', 'primary_color': '#FA4616', 'secondary_color': '#ffffff'}\n",
      "{'name': 'Mariners', 'primary_color': '#0C2340', 'secondary_color': '#ffffff'}\n",
      "{'name': 'Rays', 'primary_color': '#092C5C', 'secondary_color': '#F5D130'}\n",
      "{'name': 'Rangers', 'primary_color': '#003278', 'secondary_color': '#C0111F'}\n",
      "{'name': 'Blue Jays', 'primary_color': '#134A8E', 'secondary_color': '#E8291C'}\n",
      "{'name': 'Nationals', 'primary_color': '#BA122B', 'secondary_color': '#14225A'}\n",
      "{'name': 'Japan', 'primary_color': '#002D72', 'secondary_color': '#D50032'}\n"
     ]
    }
   ],
   "source": [
    " with open('team_colors.json') as in_file:\n",
    "        data = json.load(in_file)\n",
    "        for row in data:\n",
    "            print(row)"
   ]
  },
  {
   "cell_type": "code",
   "execution_count": null,
   "metadata": {},
   "outputs": [],
   "source": []
  }
 ],
 "metadata": {
  "kernelspec": {
   "display_name": "Python 3",
   "language": "python",
   "name": "python3"
  },
  "language_info": {
   "codemirror_mode": {
    "name": "ipython",
    "version": 3
   },
   "file_extension": ".py",
   "mimetype": "text/x-python",
   "name": "python",
   "nbconvert_exporter": "python",
   "pygments_lexer": "ipython3",
   "version": "3.7.3"
  }
 },
 "nbformat": 4,
 "nbformat_minor": 2
}
